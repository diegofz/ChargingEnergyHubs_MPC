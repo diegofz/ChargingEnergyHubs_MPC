{
 "cells": [
  {
   "cell_type": "code",
   "execution_count": 1,
   "id": "bcc54661",
   "metadata": {},
   "outputs": [],
   "source": [
    "import pandas as pd\n",
    "import numpy as np\n",
    "import os"
   ]
  },
  {
   "cell_type": "markdown",
   "id": "5c9b92cf",
   "metadata": {},
   "source": [
    "# GHG emissions"
   ]
  },
  {
   "cell_type": "markdown",
   "id": "6d79dbc5",
   "metadata": {},
   "source": [
    "## Data exploration"
   ]
  },
  {
   "cell_type": "code",
   "execution_count": 2,
   "id": "2675d2c9",
   "metadata": {},
   "outputs": [],
   "source": [
    "delta_t = 0.25 # discretization with 15 min resolution "
   ]
  },
  {
   "cell_type": "code",
   "execution_count": 3,
   "id": "04ef9a46",
   "metadata": {},
   "outputs": [],
   "source": [
    "evalFolder = \"EnergyHubEval\"\n",
    "if not os.path.exists(evalFolder):\n",
    "    os.makedirs(evalFolder)"
   ]
  },
  {
   "cell_type": "code",
   "execution_count": 4,
   "id": "bf250e03",
   "metadata": {},
   "outputs": [],
   "source": [
    "ghg = pd.read_csv('Data/Grid_NL/electriciteitsmix-2021-uur-data.csv')"
   ]
  },
  {
   "cell_type": "code",
   "execution_count": 5,
   "id": "b610fa08",
   "metadata": {},
   "outputs": [
    {
     "data": {
      "application/vnd.microsoft.datawrangler.viewer.v0+json": {
       "columns": [
        {
         "name": "index",
         "rawType": "int64",
         "type": "integer"
        },
        {
         "name": "validfrom (UTC)",
         "rawType": "object",
         "type": "string"
        },
        {
         "name": "validto (UTC)",
         "rawType": "object",
         "type": "string"
        },
        {
         "name": "point",
         "rawType": "object",
         "type": "string"
        },
        {
         "name": "type",
         "rawType": "object",
         "type": "string"
        },
        {
         "name": "granularity",
         "rawType": "object",
         "type": "string"
        },
        {
         "name": "timezone",
         "rawType": "object",
         "type": "string"
        },
        {
         "name": "activity",
         "rawType": "object",
         "type": "string"
        },
        {
         "name": "classification",
         "rawType": "object",
         "type": "string"
        },
        {
         "name": "capacity (kW)",
         "rawType": "int64",
         "type": "integer"
        },
        {
         "name": "volume (kWh)",
         "rawType": "int64",
         "type": "integer"
        },
        {
         "name": "percentage",
         "rawType": "float64",
         "type": "float"
        },
        {
         "name": "emission (kg CO2)",
         "rawType": "int64",
         "type": "integer"
        },
        {
         "name": "emissionfactor (kg CO2/kWh)",
         "rawType": "float64",
         "type": "float"
        }
       ],
       "ref": "97224cae-5778-4235-8b45-043a7eb07ade",
       "rows": [
        [
         "0",
         "2020-12-31 23:00:00",
         "2021-01-01 00:00:00",
         "Nederland",
         "ElectricityMix",
         "Hour",
         "UTC",
         "Providing",
         "Current",
         "10899485",
         "10899485",
         "0.60500299930573",
         "3939727",
         "0.36142525076866"
        ],
        [
         "1",
         "2021-01-01 00:00:00",
         "2021-01-01 01:00:00",
         "Nederland",
         "ElectricityMix",
         "Hour",
         "UTC",
         "Providing",
         "Current",
         "10180546",
         "10180546",
         "0.56508350372314",
         "3646349",
         "0.35813999176025"
        ],
        [
         "2",
         "2021-01-01 01:00:00",
         "2021-01-01 02:00:00",
         "Nederland",
         "ElectricityMix",
         "Hour",
         "UTC",
         "Providing",
         "Current",
         "9166898",
         "9166898",
         "0.50880801677704",
         "3201484",
         "0.34921026229858"
        ],
        [
         "3",
         "2021-01-01 02:00:00",
         "2021-01-01 03:00:00",
         "Nederland",
         "ElectricityMix",
         "Hour",
         "UTC",
         "Providing",
         "Current",
         "8063011",
         "8063011",
         "0.44752675294876",
         "2739129",
         "0.33963450789452"
        ],
        [
         "4",
         "2021-01-01 03:00:00",
         "2021-01-01 04:00:00",
         "Nederland",
         "ElectricityMix",
         "Hour",
         "UTC",
         "Providing",
         "Current",
         "7712362",
         "7712362",
         "0.42805451154709",
         "2552202",
         "0.33091524243355"
        ],
        [
         "5",
         "2021-01-01 04:00:00",
         "2021-01-01 05:00:00",
         "Nederland",
         "ElectricityMix",
         "Hour",
         "UTC",
         "Providing",
         "Current",
         "7898391",
         "7898391",
         "0.43836924433708",
         "2622654",
         "0.3320415019989"
        ],
        [
         "6",
         "2021-01-01 05:00:00",
         "2021-01-01 06:00:00",
         "Nederland",
         "ElectricityMix",
         "Hour",
         "UTC",
         "Providing",
         "Current",
         "8269805",
         "8269805",
         "0.45897275209427",
         "2730816",
         "0.33021700382233"
        ],
        [
         "7",
         "2021-01-01 06:00:00",
         "2021-01-01 07:00:00",
         "Nederland",
         "ElectricityMix",
         "Hour",
         "UTC",
         "Providing",
         "Current",
         "8596454",
         "8596454",
         "0.47709074616432",
         "2872574",
         "0.33413526415825"
        ],
        [
         "8",
         "2021-01-01 07:00:00",
         "2021-01-01 08:00:00",
         "Nederland",
         "ElectricityMix",
         "Hour",
         "UTC",
         "Providing",
         "Current",
         "9032946",
         "9032946",
         "0.50130397081375",
         "3091592",
         "0.3422332406044"
        ],
        [
         "9",
         "2021-01-01 08:00:00",
         "2021-01-01 09:00:00",
         "Nederland",
         "ElectricityMix",
         "Hour",
         "UTC",
         "Providing",
         "Current",
         "10269590",
         "10269590",
         "0.56992101669312",
         "3539842",
         "0.34471750259399"
        ],
        [
         "10",
         "2021-01-01 09:00:00",
         "2021-01-01 10:00:00",
         "Nederland",
         "ElectricityMix",
         "Hour",
         "UTC",
         "Providing",
         "Current",
         "11621320",
         "11621320",
         "0.64492177963257",
         "3921629",
         "0.33752301335335"
        ],
        [
         "11",
         "2021-01-01 10:00:00",
         "2021-01-01 11:00:00",
         "Nederland",
         "ElectricityMix",
         "Hour",
         "UTC",
         "Providing",
         "Current",
         "12562014",
         "12562014",
         "0.69710898399353",
         "4037428",
         "0.32149049639702"
        ],
        [
         "12",
         "2021-01-01 11:00:00",
         "2021-01-01 12:00:00",
         "Nederland",
         "ElectricityMix",
         "Hour",
         "UTC",
         "Providing",
         "Current",
         "13220779",
         "13220779",
         "0.73364925384521",
         "4083067",
         "0.30886349081993"
        ],
        [
         "13",
         "2021-01-01 12:00:00",
         "2021-01-01 13:00:00",
         "Nederland",
         "ElectricityMix",
         "Hour",
         "UTC",
         "Providing",
         "Current",
         "13094521",
         "13094521",
         "0.72662651538849",
         "4035347",
         "0.30819773674011"
        ],
        [
         "14",
         "2021-01-01 13:00:00",
         "2021-01-01 14:00:00",
         "Nederland",
         "ElectricityMix",
         "Hour",
         "UTC",
         "Providing",
         "Current",
         "13027189",
         "13027189",
         "0.72287350893021",
         "4203192",
         "0.32265225052834"
        ],
        [
         "15",
         "2021-01-01 14:00:00",
         "2021-01-01 15:00:00",
         "Nederland",
         "ElectricityMix",
         "Hour",
         "UTC",
         "Providing",
         "Current",
         "13234063",
         "13234063",
         "0.73433601856232",
         "4475872",
         "0.33821851015091"
        ],
        [
         "16",
         "2021-01-01 15:00:00",
         "2021-01-01 16:00:00",
         "Nederland",
         "ElectricityMix",
         "Hour",
         "UTC",
         "Providing",
         "Current",
         "12802412",
         "12802412",
         "0.71036797761917",
         "4596315",
         "0.35905176401138"
        ],
        [
         "17",
         "2021-01-01 16:00:00",
         "2021-01-01 17:00:00",
         "Nederland",
         "ElectricityMix",
         "Hour",
         "UTC",
         "Providing",
         "Current",
         "13105914",
         "13105914",
         "0.72719198465347",
         "4794810",
         "0.3658512532711"
        ],
        [
         "18",
         "2021-01-01 17:00:00",
         "2021-01-01 18:00:00",
         "Nederland",
         "ElectricityMix",
         "Hour",
         "UTC",
         "Providing",
         "Current",
         "13219304",
         "13219304",
         "0.73346674442291",
         "4843747",
         "0.36641600728035"
        ],
        [
         "19",
         "2021-01-01 18:00:00",
         "2021-01-01 19:00:00",
         "Nederland",
         "ElectricityMix",
         "Hour",
         "UTC",
         "Providing",
         "Current",
         "13026931",
         "13026931",
         "0.72277623414993",
         "4769147",
         "0.36609974503517"
        ],
        [
         "20",
         "2021-01-01 19:00:00",
         "2021-01-01 20:00:00",
         "Nederland",
         "ElectricityMix",
         "Hour",
         "UTC",
         "Providing",
         "Current",
         "12940709",
         "12940709",
         "0.71797573566437",
         "4749674",
         "0.36703249812126"
        ],
        [
         "21",
         "2021-01-01 20:00:00",
         "2021-01-01 21:00:00",
         "Nederland",
         "ElectricityMix",
         "Hour",
         "UTC",
         "Providing",
         "Current",
         "12796123",
         "12796123",
         "0.7099375128746",
         "4697747",
         "0.36712375283241"
        ],
        [
         "22",
         "2021-01-01 21:00:00",
         "2021-01-01 22:00:00",
         "Nederland",
         "ElectricityMix",
         "Hour",
         "UTC",
         "Providing",
         "Current",
         "12420437",
         "12420437",
         "0.68907850980759",
         "4563918",
         "0.36745250225067"
        ],
        [
         "23",
         "2021-01-01 22:00:00",
         "2021-01-01 23:00:00",
         "Nederland",
         "ElectricityMix",
         "Hour",
         "UTC",
         "Providing",
         "Current",
         "11755992",
         "11755992",
         "0.6522005200386",
         "4313462",
         "0.36691850423813"
        ],
        [
         "24",
         "2021-01-01 23:00:00",
         "2021-01-02 00:00:00",
         "Nederland",
         "ElectricityMix",
         "Hour",
         "UTC",
         "Providing",
         "Current",
         "10637873",
         "10637873",
         "0.59015572071075",
         "3869755",
         "0.36373549699783"
        ],
        [
         "25",
         "2021-01-02 00:00:00",
         "2021-01-02 01:00:00",
         "Nederland",
         "ElectricityMix",
         "Hour",
         "UTC",
         "Providing",
         "Current",
         "9112622",
         "9112622",
         "0.50552773475647",
         "3257017",
         "0.35740000009537"
        ],
        [
         "26",
         "2021-01-02 01:00:00",
         "2021-01-02 02:00:00",
         "Nederland",
         "ElectricityMix",
         "Hour",
         "UTC",
         "Providing",
         "Current",
         "8346608",
         "8346608",
         "0.46302226185799",
         "2928107",
         "0.35080850124359"
        ],
        [
         "27",
         "2021-01-02 02:00:00",
         "2021-01-02 03:00:00",
         "Nederland",
         "ElectricityMix",
         "Hour",
         "UTC",
         "Providing",
         "Current",
         "8149926",
         "8149926",
         "0.45210126042366",
         "2844050",
         "0.34896674752235"
        ],
        [
         "28",
         "2021-01-02 03:00:00",
         "2021-01-02 04:00:00",
         "Nederland",
         "ElectricityMix",
         "Hour",
         "UTC",
         "Providing",
         "Current",
         "8225328",
         "8225328",
         "0.45627325773239",
         "2864389",
         "0.34823751449585"
        ],
        [
         "29",
         "2021-01-02 04:00:00",
         "2021-01-02 05:00:00",
         "Nederland",
         "ElectricityMix",
         "Hour",
         "UTC",
         "Providing",
         "Current",
         "8403442",
         "8403442",
         "0.46614274382591",
         "2915610",
         "0.34695449471474"
        ],
        [
         "30",
         "2021-01-02 05:00:00",
         "2021-01-02 06:00:00",
         "Nederland",
         "ElectricityMix",
         "Hour",
         "UTC",
         "Providing",
         "Current",
         "9162437",
         "9162437",
         "0.50823277235031",
         "3244211",
         "0.35401874780655"
        ],
        [
         "31",
         "2021-01-02 06:00:00",
         "2021-01-02 07:00:00",
         "Nederland",
         "ElectricityMix",
         "Hour",
         "UTC",
         "Providing",
         "Current",
         "11148194",
         "11148194",
         "0.61836701631546",
         "4046676",
         "0.36293849349022"
        ],
        [
         "32",
         "2021-01-02 07:00:00",
         "2021-01-02 08:00:00",
         "Nederland",
         "ElectricityMix",
         "Hour",
         "UTC",
         "Providing",
         "Current",
         "13870866",
         "13870866",
         "0.76937025785446",
         "5162644",
         "0.37219175696373"
        ],
        [
         "33",
         "2021-01-02 08:00:00",
         "2021-01-02 09:00:00",
         "Nederland",
         "ElectricityMix",
         "Hour",
         "UTC",
         "Providing",
         "Current",
         "15489673",
         "15489673",
         "0.85914027690887",
         "5753035",
         "0.37145000696182"
        ],
        [
         "34",
         "2021-01-02 09:00:00",
         "2021-01-02 10:00:00",
         "Nederland",
         "ElectricityMix",
         "Hour",
         "UTC",
         "Providing",
         "Current",
         "16404553",
         "16404553",
         "0.90986377000809",
         "5981850",
         "0.36467424035072"
        ],
        [
         "35",
         "2021-01-02 10:00:00",
         "2021-01-02 11:00:00",
         "Nederland",
         "ElectricityMix",
         "Hour",
         "UTC",
         "Providing",
         "Current",
         "16974359",
         "16974359",
         "0.94144576787949",
         "6056317",
         "0.35681200027466"
        ],
        [
         "36",
         "2021-01-02 11:00:00",
         "2021-01-02 12:00:00",
         "Nederland",
         "ElectricityMix",
         "Hour",
         "UTC",
         "Providing",
         "Current",
         "17360460",
         "17360460",
         "0.96283775568008",
         "6109664",
         "0.35192975401878"
        ],
        [
         "37",
         "2021-01-02 12:00:00",
         "2021-01-02 13:00:00",
         "Nederland",
         "ElectricityMix",
         "Hour",
         "UTC",
         "Providing",
         "Current",
         "17148624",
         "17148624",
         "0.95106726884842",
         "6093696",
         "0.35534951090813"
        ],
        [
         "38",
         "2021-01-02 13:00:00",
         "2021-01-02 14:00:00",
         "Nederland",
         "ElectricityMix",
         "Hour",
         "UTC",
         "Providing",
         "Current",
         "16761447",
         "16761447",
         "0.92957299947739",
         "6066424",
         "0.36194774508476"
        ],
        [
         "39",
         "2021-01-02 14:00:00",
         "2021-01-02 15:00:00",
         "Nederland",
         "ElectricityMix",
         "Hour",
         "UTC",
         "Providing",
         "Current",
         "16493689",
         "16493689",
         "0.9147019982338",
         "6133007",
         "0.37184700369835"
        ],
        [
         "40",
         "2021-01-02 15:00:00",
         "2021-01-02 16:00:00",
         "Nederland",
         "ElectricityMix",
         "Hour",
         "UTC",
         "Providing",
         "Current",
         "16145220",
         "16145220",
         "0.89535647630692",
         "6122933",
         "0.37925198674202"
        ],
        [
         "41",
         "2021-01-02 16:00:00",
         "2021-01-02 17:00:00",
         "Nederland",
         "ElectricityMix",
         "Hour",
         "UTC",
         "Providing",
         "Current",
         "16069060",
         "16069060",
         "0.89111250638962",
         "6129078",
         "0.38142123818398"
        ],
        [
         "42",
         "2021-01-02 17:00:00",
         "2021-01-02 18:00:00",
         "Nederland",
         "ElectricityMix",
         "Hour",
         "UTC",
         "Providing",
         "Current",
         "16098710",
         "16098710",
         "0.89273601770401",
         "6140897",
         "0.38145324587822"
        ],
        [
         "43",
         "2021-01-02 18:00:00",
         "2021-01-02 19:00:00",
         "Nederland",
         "ElectricityMix",
         "Hour",
         "UTC",
         "Providing",
         "Current",
         "15919636",
         "15919636",
         "0.88278549909592",
         "6074515",
         "0.38157549500465"
        ],
        [
         "44",
         "2021-01-02 19:00:00",
         "2021-01-02 20:00:00",
         "Nederland",
         "ElectricityMix",
         "Hour",
         "UTC",
         "Providing",
         "Current",
         "15760452",
         "15760452",
         "0.87393826246262",
         "6024110",
         "0.38222724199295"
        ],
        [
         "45",
         "2021-01-02 20:00:00",
         "2021-01-02 21:00:00",
         "Nederland",
         "ElectricityMix",
         "Hour",
         "UTC",
         "Providing",
         "Current",
         "15285952",
         "15285952",
         "0.84760701656342",
         "5866432",
         "0.38378050923347"
        ],
        [
         "46",
         "2021-01-02 21:00:00",
         "2021-01-02 22:00:00",
         "Nederland",
         "ElectricityMix",
         "Hour",
         "UTC",
         "Providing",
         "Current",
         "14182619",
         "14182619",
         "0.78640925884247",
         "5425195",
         "0.38251051306725"
        ],
        [
         "47",
         "2021-01-02 22:00:00",
         "2021-01-02 23:00:00",
         "Nederland",
         "ElectricityMix",
         "Hour",
         "UTC",
         "Providing",
         "Current",
         "12598968",
         "12598968",
         "0.69858175516129",
         "4792986",
         "0.38044148683548"
        ],
        [
         "48",
         "2021-01-02 23:00:00",
         "2021-01-03 00:00:00",
         "Nederland",
         "ElectricityMix",
         "Hour",
         "UTC",
         "Providing",
         "Current",
         "10410214",
         "10410214",
         "0.57720750570297",
         "3944536",
         "0.37886723875999"
        ],
        [
         "49",
         "2021-01-03 00:00:00",
         "2021-01-03 01:00:00",
         "Nederland",
         "ElectricityMix",
         "Hour",
         "UTC",
         "Providing",
         "Current",
         "9348235",
         "9348235",
         "0.51831275224686",
         "3422981",
         "0.36610001325607"
        ]
       ],
       "shape": {
        "columns": 13,
        "rows": 8760
       }
      },
      "text/html": [
       "<div>\n",
       "<style scoped>\n",
       "    .dataframe tbody tr th:only-of-type {\n",
       "        vertical-align: middle;\n",
       "    }\n",
       "\n",
       "    .dataframe tbody tr th {\n",
       "        vertical-align: top;\n",
       "    }\n",
       "\n",
       "    .dataframe thead th {\n",
       "        text-align: right;\n",
       "    }\n",
       "</style>\n",
       "<table border=\"1\" class=\"dataframe\">\n",
       "  <thead>\n",
       "    <tr style=\"text-align: right;\">\n",
       "      <th></th>\n",
       "      <th>validfrom (UTC)</th>\n",
       "      <th>validto (UTC)</th>\n",
       "      <th>point</th>\n",
       "      <th>type</th>\n",
       "      <th>granularity</th>\n",
       "      <th>timezone</th>\n",
       "      <th>activity</th>\n",
       "      <th>classification</th>\n",
       "      <th>capacity (kW)</th>\n",
       "      <th>volume (kWh)</th>\n",
       "      <th>percentage</th>\n",
       "      <th>emission (kg CO2)</th>\n",
       "      <th>emissionfactor (kg CO2/kWh)</th>\n",
       "    </tr>\n",
       "  </thead>\n",
       "  <tbody>\n",
       "    <tr>\n",
       "      <th>0</th>\n",
       "      <td>2020-12-31 23:00:00</td>\n",
       "      <td>2021-01-01 00:00:00</td>\n",
       "      <td>Nederland</td>\n",
       "      <td>ElectricityMix</td>\n",
       "      <td>Hour</td>\n",
       "      <td>UTC</td>\n",
       "      <td>Providing</td>\n",
       "      <td>Current</td>\n",
       "      <td>10899485</td>\n",
       "      <td>10899485</td>\n",
       "      <td>0.605003</td>\n",
       "      <td>3939727</td>\n",
       "      <td>0.361425</td>\n",
       "    </tr>\n",
       "    <tr>\n",
       "      <th>1</th>\n",
       "      <td>2021-01-01 00:00:00</td>\n",
       "      <td>2021-01-01 01:00:00</td>\n",
       "      <td>Nederland</td>\n",
       "      <td>ElectricityMix</td>\n",
       "      <td>Hour</td>\n",
       "      <td>UTC</td>\n",
       "      <td>Providing</td>\n",
       "      <td>Current</td>\n",
       "      <td>10180546</td>\n",
       "      <td>10180546</td>\n",
       "      <td>0.565084</td>\n",
       "      <td>3646349</td>\n",
       "      <td>0.358140</td>\n",
       "    </tr>\n",
       "    <tr>\n",
       "      <th>2</th>\n",
       "      <td>2021-01-01 01:00:00</td>\n",
       "      <td>2021-01-01 02:00:00</td>\n",
       "      <td>Nederland</td>\n",
       "      <td>ElectricityMix</td>\n",
       "      <td>Hour</td>\n",
       "      <td>UTC</td>\n",
       "      <td>Providing</td>\n",
       "      <td>Current</td>\n",
       "      <td>9166898</td>\n",
       "      <td>9166898</td>\n",
       "      <td>0.508808</td>\n",
       "      <td>3201484</td>\n",
       "      <td>0.349210</td>\n",
       "    </tr>\n",
       "    <tr>\n",
       "      <th>3</th>\n",
       "      <td>2021-01-01 02:00:00</td>\n",
       "      <td>2021-01-01 03:00:00</td>\n",
       "      <td>Nederland</td>\n",
       "      <td>ElectricityMix</td>\n",
       "      <td>Hour</td>\n",
       "      <td>UTC</td>\n",
       "      <td>Providing</td>\n",
       "      <td>Current</td>\n",
       "      <td>8063011</td>\n",
       "      <td>8063011</td>\n",
       "      <td>0.447527</td>\n",
       "      <td>2739129</td>\n",
       "      <td>0.339635</td>\n",
       "    </tr>\n",
       "    <tr>\n",
       "      <th>4</th>\n",
       "      <td>2021-01-01 03:00:00</td>\n",
       "      <td>2021-01-01 04:00:00</td>\n",
       "      <td>Nederland</td>\n",
       "      <td>ElectricityMix</td>\n",
       "      <td>Hour</td>\n",
       "      <td>UTC</td>\n",
       "      <td>Providing</td>\n",
       "      <td>Current</td>\n",
       "      <td>7712362</td>\n",
       "      <td>7712362</td>\n",
       "      <td>0.428055</td>\n",
       "      <td>2552202</td>\n",
       "      <td>0.330915</td>\n",
       "    </tr>\n",
       "    <tr>\n",
       "      <th>...</th>\n",
       "      <td>...</td>\n",
       "      <td>...</td>\n",
       "      <td>...</td>\n",
       "      <td>...</td>\n",
       "      <td>...</td>\n",
       "      <td>...</td>\n",
       "      <td>...</td>\n",
       "      <td>...</td>\n",
       "      <td>...</td>\n",
       "      <td>...</td>\n",
       "      <td>...</td>\n",
       "      <td>...</td>\n",
       "      <td>...</td>\n",
       "    </tr>\n",
       "    <tr>\n",
       "      <th>8755</th>\n",
       "      <td>2021-12-31 18:00:00</td>\n",
       "      <td>2021-12-31 19:00:00</td>\n",
       "      <td>Nederland</td>\n",
       "      <td>ElectricityMix</td>\n",
       "      <td>Hour</td>\n",
       "      <td>UTC</td>\n",
       "      <td>Providing</td>\n",
       "      <td>Current</td>\n",
       "      <td>13049824</td>\n",
       "      <td>13049824</td>\n",
       "      <td>0.591903</td>\n",
       "      <td>3388403</td>\n",
       "      <td>0.259640</td>\n",
       "    </tr>\n",
       "    <tr>\n",
       "      <th>8756</th>\n",
       "      <td>2021-12-31 19:00:00</td>\n",
       "      <td>2021-12-31 20:00:00</td>\n",
       "      <td>Nederland</td>\n",
       "      <td>ElectricityMix</td>\n",
       "      <td>Hour</td>\n",
       "      <td>UTC</td>\n",
       "      <td>Providing</td>\n",
       "      <td>Current</td>\n",
       "      <td>12443857</td>\n",
       "      <td>12443857</td>\n",
       "      <td>0.564405</td>\n",
       "      <td>3069196</td>\n",
       "      <td>0.246588</td>\n",
       "    </tr>\n",
       "    <tr>\n",
       "      <th>8757</th>\n",
       "      <td>2021-12-31 20:00:00</td>\n",
       "      <td>2021-12-31 21:00:00</td>\n",
       "      <td>Nederland</td>\n",
       "      <td>ElectricityMix</td>\n",
       "      <td>Hour</td>\n",
       "      <td>UTC</td>\n",
       "      <td>Providing</td>\n",
       "      <td>Current</td>\n",
       "      <td>11494266</td>\n",
       "      <td>11494266</td>\n",
       "      <td>0.521325</td>\n",
       "      <td>2631023</td>\n",
       "      <td>0.228903</td>\n",
       "    </tr>\n",
       "    <tr>\n",
       "      <th>8758</th>\n",
       "      <td>2021-12-31 21:00:00</td>\n",
       "      <td>2021-12-31 22:00:00</td>\n",
       "      <td>Nederland</td>\n",
       "      <td>ElectricityMix</td>\n",
       "      <td>Hour</td>\n",
       "      <td>UTC</td>\n",
       "      <td>Providing</td>\n",
       "      <td>Current</td>\n",
       "      <td>10942508</td>\n",
       "      <td>10942508</td>\n",
       "      <td>0.496289</td>\n",
       "      <td>2604888</td>\n",
       "      <td>0.238083</td>\n",
       "    </tr>\n",
       "    <tr>\n",
       "      <th>8759</th>\n",
       "      <td>2021-12-31 22:00:00</td>\n",
       "      <td>2021-12-31 23:00:00</td>\n",
       "      <td>Nederland</td>\n",
       "      <td>ElectricityMix</td>\n",
       "      <td>Hour</td>\n",
       "      <td>UTC</td>\n",
       "      <td>Providing</td>\n",
       "      <td>Current</td>\n",
       "      <td>10480380</td>\n",
       "      <td>10480380</td>\n",
       "      <td>0.475319</td>\n",
       "      <td>2642341</td>\n",
       "      <td>0.252130</td>\n",
       "    </tr>\n",
       "  </tbody>\n",
       "</table>\n",
       "<p>8760 rows × 13 columns</p>\n",
       "</div>"
      ],
      "text/plain": [
       "          validfrom (UTC)        validto (UTC)      point            type  \\\n",
       "0     2020-12-31 23:00:00  2021-01-01 00:00:00  Nederland  ElectricityMix   \n",
       "1     2021-01-01 00:00:00  2021-01-01 01:00:00  Nederland  ElectricityMix   \n",
       "2     2021-01-01 01:00:00  2021-01-01 02:00:00  Nederland  ElectricityMix   \n",
       "3     2021-01-01 02:00:00  2021-01-01 03:00:00  Nederland  ElectricityMix   \n",
       "4     2021-01-01 03:00:00  2021-01-01 04:00:00  Nederland  ElectricityMix   \n",
       "...                   ...                  ...        ...             ...   \n",
       "8755  2021-12-31 18:00:00  2021-12-31 19:00:00  Nederland  ElectricityMix   \n",
       "8756  2021-12-31 19:00:00  2021-12-31 20:00:00  Nederland  ElectricityMix   \n",
       "8757  2021-12-31 20:00:00  2021-12-31 21:00:00  Nederland  ElectricityMix   \n",
       "8758  2021-12-31 21:00:00  2021-12-31 22:00:00  Nederland  ElectricityMix   \n",
       "8759  2021-12-31 22:00:00  2021-12-31 23:00:00  Nederland  ElectricityMix   \n",
       "\n",
       "     granularity timezone   activity classification  capacity (kW)  \\\n",
       "0           Hour      UTC  Providing        Current       10899485   \n",
       "1           Hour      UTC  Providing        Current       10180546   \n",
       "2           Hour      UTC  Providing        Current        9166898   \n",
       "3           Hour      UTC  Providing        Current        8063011   \n",
       "4           Hour      UTC  Providing        Current        7712362   \n",
       "...          ...      ...        ...            ...            ...   \n",
       "8755        Hour      UTC  Providing        Current       13049824   \n",
       "8756        Hour      UTC  Providing        Current       12443857   \n",
       "8757        Hour      UTC  Providing        Current       11494266   \n",
       "8758        Hour      UTC  Providing        Current       10942508   \n",
       "8759        Hour      UTC  Providing        Current       10480380   \n",
       "\n",
       "      volume (kWh)  percentage  emission (kg CO2)  emissionfactor (kg CO2/kWh)  \n",
       "0         10899485    0.605003            3939727                     0.361425  \n",
       "1         10180546    0.565084            3646349                     0.358140  \n",
       "2          9166898    0.508808            3201484                     0.349210  \n",
       "3          8063011    0.447527            2739129                     0.339635  \n",
       "4          7712362    0.428055            2552202                     0.330915  \n",
       "...            ...         ...                ...                          ...  \n",
       "8755      13049824    0.591903            3388403                     0.259640  \n",
       "8756      12443857    0.564405            3069196                     0.246588  \n",
       "8757      11494266    0.521325            2631023                     0.228903  \n",
       "8758      10942508    0.496289            2604888                     0.238083  \n",
       "8759      10480380    0.475319            2642341                     0.252130  \n",
       "\n",
       "[8760 rows x 13 columns]"
      ]
     },
     "execution_count": 5,
     "metadata": {},
     "output_type": "execute_result"
    }
   ],
   "source": [
    "ghg"
   ]
  },
  {
   "cell_type": "code",
   "execution_count": 6,
   "id": "bf31c465",
   "metadata": {},
   "outputs": [
    {
     "data": {
      "application/vnd.microsoft.datawrangler.viewer.v0+json": {
       "columns": [
        {
         "name": "index",
         "rawType": "object",
         "type": "string"
        },
        {
         "name": "0",
         "rawType": "object",
         "type": "unknown"
        }
       ],
       "ref": "1d127af4-c13e-4644-bd8a-138c6d03408f",
       "rows": [
        [
         "validfrom (UTC)",
         "object"
        ],
        [
         "validto (UTC)",
         "object"
        ],
        [
         "point",
         "object"
        ],
        [
         "type",
         "object"
        ],
        [
         "granularity",
         "object"
        ],
        [
         "timezone",
         "object"
        ],
        [
         "activity",
         "object"
        ],
        [
         "classification",
         "object"
        ],
        [
         "capacity (kW)",
         "int64"
        ],
        [
         "volume (kWh)",
         "int64"
        ],
        [
         "percentage",
         "float64"
        ],
        [
         "emission (kg CO2)",
         "int64"
        ],
        [
         "emissionfactor (kg CO2/kWh)",
         "float64"
        ]
       ],
       "shape": {
        "columns": 1,
        "rows": 13
       }
      },
      "text/plain": [
       "validfrom (UTC)                 object\n",
       "validto (UTC)                   object\n",
       "point                           object\n",
       "type                            object\n",
       "granularity                     object\n",
       "timezone                        object\n",
       "activity                        object\n",
       "classification                  object\n",
       "capacity (kW)                    int64\n",
       "volume (kWh)                     int64\n",
       "percentage                     float64\n",
       "emission (kg CO2)                int64\n",
       "emissionfactor (kg CO2/kWh)    float64\n",
       "dtype: object"
      ]
     },
     "execution_count": 6,
     "metadata": {},
     "output_type": "execute_result"
    }
   ],
   "source": [
    "ghg.dtypes"
   ]
  },
  {
   "cell_type": "code",
   "execution_count": 7,
   "id": "24b2a83b",
   "metadata": {},
   "outputs": [],
   "source": [
    "ghg['utcdatetime'] = pd.to_datetime(ghg['validfrom (UTC)'], utc=True)\n",
    "ghg['datetime'] = ghg['utcdatetime'].dt.tz_convert('Europe/Amsterdam')\n",
    "ghg['emissionfactor_kgkWh'] = ghg['emissionfactor (kg CO2/kWh)']\n",
    "ghg['emissionfactor_kgkW'] = ghg['emissionfactor (kg CO2/kWh)'] * delta_t\n",
    "ghg['emissionfactor_gkWh'] = ghg['emissionfactor (kg CO2/kWh)'] * 1000\n",
    "ghg['emissionfactor_gkW'] = ghg['emissionfactor (kg CO2/kWh)'] * 1000 * delta_t"
   ]
  },
  {
   "cell_type": "code",
   "execution_count": 9,
   "id": "0ca83dc5",
   "metadata": {},
   "outputs": [],
   "source": [
    "ghg = ghg[['datetime','emissionfactor_kgkWh']]"
   ]
  },
  {
   "cell_type": "code",
   "execution_count": 10,
   "id": "81cda904",
   "metadata": {},
   "outputs": [
    {
     "data": {
      "application/vnd.microsoft.datawrangler.viewer.v0+json": {
       "columns": [
        {
         "name": "index",
         "rawType": "int64",
         "type": "integer"
        },
        {
         "name": "datetime",
         "rawType": "datetime64[ns, Europe/Amsterdam]",
         "type": "unknown"
        },
        {
         "name": "emissionfactor_kgkWh",
         "rawType": "float64",
         "type": "float"
        }
       ],
       "ref": "0bb83d6e-c4a6-4d23-844b-6e7dbb51c837",
       "rows": [
        [
         "0",
         "2021-01-01 00:00:00+01:00",
         "0.36142525076866"
        ],
        [
         "1",
         "2021-01-01 01:00:00+01:00",
         "0.35813999176025"
        ],
        [
         "2",
         "2021-01-01 02:00:00+01:00",
         "0.34921026229858"
        ],
        [
         "3",
         "2021-01-01 03:00:00+01:00",
         "0.33963450789452"
        ],
        [
         "4",
         "2021-01-01 04:00:00+01:00",
         "0.33091524243355"
        ],
        [
         "5",
         "2021-01-01 05:00:00+01:00",
         "0.3320415019989"
        ],
        [
         "6",
         "2021-01-01 06:00:00+01:00",
         "0.33021700382233"
        ],
        [
         "7",
         "2021-01-01 07:00:00+01:00",
         "0.33413526415825"
        ],
        [
         "8",
         "2021-01-01 08:00:00+01:00",
         "0.3422332406044"
        ],
        [
         "9",
         "2021-01-01 09:00:00+01:00",
         "0.34471750259399"
        ],
        [
         "10",
         "2021-01-01 10:00:00+01:00",
         "0.33752301335335"
        ],
        [
         "11",
         "2021-01-01 11:00:00+01:00",
         "0.32149049639702"
        ],
        [
         "12",
         "2021-01-01 12:00:00+01:00",
         "0.30886349081993"
        ],
        [
         "13",
         "2021-01-01 13:00:00+01:00",
         "0.30819773674011"
        ],
        [
         "14",
         "2021-01-01 14:00:00+01:00",
         "0.32265225052834"
        ],
        [
         "15",
         "2021-01-01 15:00:00+01:00",
         "0.33821851015091"
        ],
        [
         "16",
         "2021-01-01 16:00:00+01:00",
         "0.35905176401138"
        ],
        [
         "17",
         "2021-01-01 17:00:00+01:00",
         "0.3658512532711"
        ],
        [
         "18",
         "2021-01-01 18:00:00+01:00",
         "0.36641600728035"
        ],
        [
         "19",
         "2021-01-01 19:00:00+01:00",
         "0.36609974503517"
        ],
        [
         "20",
         "2021-01-01 20:00:00+01:00",
         "0.36703249812126"
        ],
        [
         "21",
         "2021-01-01 21:00:00+01:00",
         "0.36712375283241"
        ],
        [
         "22",
         "2021-01-01 22:00:00+01:00",
         "0.36745250225067"
        ],
        [
         "23",
         "2021-01-01 23:00:00+01:00",
         "0.36691850423813"
        ],
        [
         "24",
         "2021-01-02 00:00:00+01:00",
         "0.36373549699783"
        ],
        [
         "25",
         "2021-01-02 01:00:00+01:00",
         "0.35740000009537"
        ],
        [
         "26",
         "2021-01-02 02:00:00+01:00",
         "0.35080850124359"
        ],
        [
         "27",
         "2021-01-02 03:00:00+01:00",
         "0.34896674752235"
        ],
        [
         "28",
         "2021-01-02 04:00:00+01:00",
         "0.34823751449585"
        ],
        [
         "29",
         "2021-01-02 05:00:00+01:00",
         "0.34695449471474"
        ],
        [
         "30",
         "2021-01-02 06:00:00+01:00",
         "0.35401874780655"
        ],
        [
         "31",
         "2021-01-02 07:00:00+01:00",
         "0.36293849349022"
        ],
        [
         "32",
         "2021-01-02 08:00:00+01:00",
         "0.37219175696373"
        ],
        [
         "33",
         "2021-01-02 09:00:00+01:00",
         "0.37145000696182"
        ],
        [
         "34",
         "2021-01-02 10:00:00+01:00",
         "0.36467424035072"
        ],
        [
         "35",
         "2021-01-02 11:00:00+01:00",
         "0.35681200027466"
        ],
        [
         "36",
         "2021-01-02 12:00:00+01:00",
         "0.35192975401878"
        ],
        [
         "37",
         "2021-01-02 13:00:00+01:00",
         "0.35534951090813"
        ],
        [
         "38",
         "2021-01-02 14:00:00+01:00",
         "0.36194774508476"
        ],
        [
         "39",
         "2021-01-02 15:00:00+01:00",
         "0.37184700369835"
        ],
        [
         "40",
         "2021-01-02 16:00:00+01:00",
         "0.37925198674202"
        ],
        [
         "41",
         "2021-01-02 17:00:00+01:00",
         "0.38142123818398"
        ],
        [
         "42",
         "2021-01-02 18:00:00+01:00",
         "0.38145324587822"
        ],
        [
         "43",
         "2021-01-02 19:00:00+01:00",
         "0.38157549500465"
        ],
        [
         "44",
         "2021-01-02 20:00:00+01:00",
         "0.38222724199295"
        ],
        [
         "45",
         "2021-01-02 21:00:00+01:00",
         "0.38378050923347"
        ],
        [
         "46",
         "2021-01-02 22:00:00+01:00",
         "0.38251051306725"
        ],
        [
         "47",
         "2021-01-02 23:00:00+01:00",
         "0.38044148683548"
        ],
        [
         "48",
         "2021-01-03 00:00:00+01:00",
         "0.37886723875999"
        ],
        [
         "49",
         "2021-01-03 01:00:00+01:00",
         "0.36610001325607"
        ]
       ],
       "shape": {
        "columns": 2,
        "rows": 8760
       }
      },
      "text/html": [
       "<div>\n",
       "<style scoped>\n",
       "    .dataframe tbody tr th:only-of-type {\n",
       "        vertical-align: middle;\n",
       "    }\n",
       "\n",
       "    .dataframe tbody tr th {\n",
       "        vertical-align: top;\n",
       "    }\n",
       "\n",
       "    .dataframe thead th {\n",
       "        text-align: right;\n",
       "    }\n",
       "</style>\n",
       "<table border=\"1\" class=\"dataframe\">\n",
       "  <thead>\n",
       "    <tr style=\"text-align: right;\">\n",
       "      <th></th>\n",
       "      <th>datetime</th>\n",
       "      <th>emissionfactor_kgkWh</th>\n",
       "    </tr>\n",
       "  </thead>\n",
       "  <tbody>\n",
       "    <tr>\n",
       "      <th>0</th>\n",
       "      <td>2021-01-01 00:00:00+01:00</td>\n",
       "      <td>0.361425</td>\n",
       "    </tr>\n",
       "    <tr>\n",
       "      <th>1</th>\n",
       "      <td>2021-01-01 01:00:00+01:00</td>\n",
       "      <td>0.358140</td>\n",
       "    </tr>\n",
       "    <tr>\n",
       "      <th>2</th>\n",
       "      <td>2021-01-01 02:00:00+01:00</td>\n",
       "      <td>0.349210</td>\n",
       "    </tr>\n",
       "    <tr>\n",
       "      <th>3</th>\n",
       "      <td>2021-01-01 03:00:00+01:00</td>\n",
       "      <td>0.339635</td>\n",
       "    </tr>\n",
       "    <tr>\n",
       "      <th>4</th>\n",
       "      <td>2021-01-01 04:00:00+01:00</td>\n",
       "      <td>0.330915</td>\n",
       "    </tr>\n",
       "    <tr>\n",
       "      <th>...</th>\n",
       "      <td>...</td>\n",
       "      <td>...</td>\n",
       "    </tr>\n",
       "    <tr>\n",
       "      <th>8755</th>\n",
       "      <td>2021-12-31 19:00:00+01:00</td>\n",
       "      <td>0.259640</td>\n",
       "    </tr>\n",
       "    <tr>\n",
       "      <th>8756</th>\n",
       "      <td>2021-12-31 20:00:00+01:00</td>\n",
       "      <td>0.246588</td>\n",
       "    </tr>\n",
       "    <tr>\n",
       "      <th>8757</th>\n",
       "      <td>2021-12-31 21:00:00+01:00</td>\n",
       "      <td>0.228903</td>\n",
       "    </tr>\n",
       "    <tr>\n",
       "      <th>8758</th>\n",
       "      <td>2021-12-31 22:00:00+01:00</td>\n",
       "      <td>0.238083</td>\n",
       "    </tr>\n",
       "    <tr>\n",
       "      <th>8759</th>\n",
       "      <td>2021-12-31 23:00:00+01:00</td>\n",
       "      <td>0.252130</td>\n",
       "    </tr>\n",
       "  </tbody>\n",
       "</table>\n",
       "<p>8760 rows × 2 columns</p>\n",
       "</div>"
      ],
      "text/plain": [
       "                      datetime  emissionfactor_kgkWh\n",
       "0    2021-01-01 00:00:00+01:00              0.361425\n",
       "1    2021-01-01 01:00:00+01:00              0.358140\n",
       "2    2021-01-01 02:00:00+01:00              0.349210\n",
       "3    2021-01-01 03:00:00+01:00              0.339635\n",
       "4    2021-01-01 04:00:00+01:00              0.330915\n",
       "...                        ...                   ...\n",
       "8755 2021-12-31 19:00:00+01:00              0.259640\n",
       "8756 2021-12-31 20:00:00+01:00              0.246588\n",
       "8757 2021-12-31 21:00:00+01:00              0.228903\n",
       "8758 2021-12-31 22:00:00+01:00              0.238083\n",
       "8759 2021-12-31 23:00:00+01:00              0.252130\n",
       "\n",
       "[8760 rows x 2 columns]"
      ]
     },
     "execution_count": 10,
     "metadata": {},
     "output_type": "execute_result"
    }
   ],
   "source": [
    "ghg"
   ]
  },
  {
   "cell_type": "code",
   "execution_count": null,
   "id": "5c9e7bb7",
   "metadata": {},
   "outputs": [],
   "source": [
    "# ghg.to_csv(evalFolder+'/AllTest_ghg_2021_v0.csv', index=False)"
   ]
  }
 ],
 "metadata": {
  "kernelspec": {
   "display_name": ".venv",
   "language": "python",
   "name": "python3"
  },
  "language_info": {
   "codemirror_mode": {
    "name": "ipython",
    "version": 3
   },
   "file_extension": ".py",
   "mimetype": "text/x-python",
   "name": "python",
   "nbconvert_exporter": "python",
   "pygments_lexer": "ipython3",
   "version": "3.11.9"
  }
 },
 "nbformat": 4,
 "nbformat_minor": 5
}
